{
 "cells": [
  {
   "cell_type": "markdown",
   "metadata": {},
   "source": [
    "# Dependancies"
   ]
  },
  {
   "cell_type": "code",
   "execution_count": null,
   "metadata": {
    "collapsed": true
   },
   "outputs": [],
   "source": [
    "import pandas as pd\n",
    "import numpy as np\n",
    "import datetime as dt\n",
    "from datetime import timedelta\n",
    "import matplotlib\n",
    "import matplotlib.pyplot as plt\n",
    "plt.style.use('ggplot')\n",
    "import qrcode\n",
    "import re\n",
    "import sqlite3\n",
    "import os\n",
    "import sys\n",
    "import time\n",
    "\n",
    "try:\n",
    "    import tkinter.ttk\n",
    "    from tkinter import *\n",
    "#     from tkinter.ttk import *\n",
    "except:\n",
    "    from tkinter import *\n",
    "\n",
    "from tkinter import messagebox\n",
    "from tkinter import filedialog\n",
    "\n",
    "# import Paths\n"
   ]
  },
  {
   "cell_type": "markdown",
   "metadata": {},
   "source": [
    "# Classes"
   ]
  },
  {
   "cell_type": "code",
   "execution_count": null,
   "metadata": {
    "collapsed": true
   },
   "outputs": [],
   "source": [
    "class UserInterface():\n",
    "    \"\"\"Parent class for the UI. Instantiates the composit Window\"\"\"\n",
    "    def __init__(self):\n",
    "        UI(None)\n",
    "        mainloop()\n"
   ]
  },
  {
   "cell_type": "code",
   "execution_count": null,
   "metadata": {},
   "outputs": [],
   "source": [
    "\n",
    "class UI(Tk):\n",
    "    \"\"\"User Interface with fields for entering a new CSP item to the database. \n",
    "    Also, when the UI is launched, the UID and username is retrieved.\"\"\"\n",
    "    \n",
    "    now=dt.date.today().strftime('%B %d, %Y')\n",
    "    time_of_day=dt.datetime.today().strftime('%I:%M:%S %p')\n",
    "    \n",
    "    my_test=None\n",
    "    \n",
    "    def __init__(self,parent,*args,**kargs):\n",
    "        \"\"\"Create the UI Window\"\"\"\n",
    "        Tk.__init__(self,parent,*args,**kargs)\n",
    "        \n",
    "        self.parent=parent\n",
    "        self.initialize()\n",
    "        self.banner=Label(self,text=f'UML Diagrams - {UI.now}',fg='white',bg='blue',font='Ariel 30 bold')\n",
    "        self.banner.grid(row=0,column=0, columnspan=2)\n",
    "\n",
    "#         self.uml_txtbox_frame1()\n",
    "        self.makeumlFields()\n",
    "#         self.userInstructions()\n",
    "        \n",
    "    def initialize(self):\n",
    "        \"\"\"Set-up and configure the UI window\"\"\"\n",
    "        self.title('UML Project')\n",
    "        the_window_width=self.winfo_screenwidth()\n",
    "        the_window_height=self.winfo_screenheight()\n",
    "#         self.configure(width=the_window_width,height=the_window_height)\n",
    "#         the_window_width=1200\n",
    "#         the_window_height=700\n",
    "        self.geometry(f'{the_window_width}x{the_window_height}+0+0')\n",
    "#         self.attributes('-fullscreen', True)\n",
    "        self['borderwidth']=4\n",
    "        self['bg']='blue'\n",
    "        self.menubar=Menu(self)\n",
    "        self.menubar.add_command(label=\"Exit\",font='ariel',command=self.bye_bye)\n",
    "        self.config(menu=self.menubar)\n",
    "    \n",
    "    def bye_bye(self):\n",
    "        \"\"\"Close the UI Window on menu Exit\"\"\"\n",
    "        self.destroy()\n",
    "        \n",
    "    def makeumlFields(self):\n",
    "        \"\"\"Generate the CSP fields\"\"\"\n",
    "        # make the frame\n",
    "        self.uml_txtbox_frame=Frame(self.parent)\n",
    "        self.uml_txtbox_frame['background']='green'\n",
    "        self.uml_txtbox_frame['relief']='raised'\n",
    "        self.uml_txtbox_frame['borderwidth']=10\n",
    "        self.uml_txtbox_frame.grid(row=1,column=1)\n",
    "        banner_text='PlantUML Code Here'\n",
    "        frame_banner=Label(self.uml_txtbox_frame,text=banner_text,fg='white',bg='green',font='Ariel 15 bold')\n",
    "        frame_banner.grid(row=0,column=0,columnspan=5,pady=15)\n",
    "        \n",
    "        \n",
    "        self.txt='COMMENTS'\n",
    "        self.uml_txt_label=Label(self.uml_txtbox_frame,text=self.txt,bg='blue',fg='yellow',font='Ariel 12 bold')\n",
    "        font='Ariel 14 bold'\n",
    "        self.uml_txt=Text(self.uml_txtbox_frame,borderwidth=2,height=30,font=font,wrap=WORD)\n",
    "        self.uml_txt.insert(INSERT, \"@startuml\\n\\n\\n@enduml\")\n",
    "        self.uml_txt.tag_add(\"here\", \"1.0\", \"1.4\")\n",
    "        self.uml_txt.tag_config(\"here\", background=\"yellow\", foreground=\"blue\")\n",
    "        self.uml_txt_label.grid(row=1,column=0,columnspan=1,pady=1,sticky=W)\n",
    "        self.uml_txt.grid(row=2,column=0,columnspan=1,pady=1,sticky=W)\n",
    "        \n",
    "        \n",
    "        # Buttons\n",
    "        self.submit_button=Button(self.uml_txtbox_frame, text=\"SUBMIT UML Code\",bg='black',fg='white',relief='raised',command=None)\n",
    "        self.submit_button.grid(row=3,column=0,sticky=W)\n",
    "\n",
    "        self.run_uml=Button(self.uml_txtbox_frame, text=\"RUN UML Code\",bg='black',fg='yellow',relief='raised',state='normal',command=self.getUMLCode)\n",
    "        self.run_uml.grid(row=4,column=0,sticky=W,pady=15)\n",
    "\n",
    "        self.access_dir=Button(self.uml_txtbox_frame, text=\"Open Directory\",bg='blue',fg='yellow',relief='raised',state='disabled',command=None)\n",
    "        self.access_dir.grid(row=5,column=0,sticky=W,pady=15)\n",
    "        \n",
    "    def getUMLCode(self):\n",
    "        \n",
    "        plantumlcode=self.uml_txt.get(\"1.0\",\"end-1c\")\n",
    "#         print(plantumlcode)\n",
    "        \n",
    "        makeRunFile(plantumlcode)\n",
    "        \n",
    "        runUmlFile()\n",
    "        "
   ]
  },
  {
   "cell_type": "markdown",
   "metadata": {},
   "source": [
    "# Functions"
   ]
  },
  {
   "cell_type": "code",
   "execution_count": null,
   "metadata": {
    "collapsed": true
   },
   "outputs": [],
   "source": [
    "def makeRunFile(code):\n",
    "    \n",
    "    f= open(\"uml_run.txt\",\"w+\")\n",
    "    \n",
    "    f.write(code)\n",
    "    \n",
    "    f.close\n",
    "    "
   ]
  },
  {
   "cell_type": "code",
   "execution_count": null,
   "metadata": {
    "collapsed": true
   },
   "outputs": [],
   "source": [
    "def runUmlFile():\n",
    "    \n",
    "    !python -m plantuml uml_run.txt\n",
    "    \n",
    "    displayUML()"
   ]
  },
  {
   "cell_type": "code",
   "execution_count": null,
   "metadata": {
    "collapsed": true
   },
   "outputs": [],
   "source": [
    "def displayUML():\n",
    "    \n",
    "    os.startfile(\"uml_run.png\",operation='open')"
   ]
  },
  {
   "cell_type": "markdown",
   "metadata": {},
   "source": [
    "# Main"
   ]
  },
  {
   "cell_type": "code",
   "execution_count": null,
   "metadata": {
    "scrolled": false
   },
   "outputs": [],
   "source": [
    "\n",
    "\n",
    "UserInterface()"
   ]
  },
  {
   "cell_type": "code",
   "execution_count": null,
   "metadata": {
    "collapsed": true
   },
   "outputs": [],
   "source": []
  }
 ],
 "metadata": {
  "hide_input": false,
  "kernelspec": {
   "display_name": "Python 3",
   "language": "python",
   "name": "python3"
  },
  "language_info": {
   "codemirror_mode": {
    "name": "ipython",
    "version": 3
   },
   "file_extension": ".py",
   "mimetype": "text/x-python",
   "name": "python",
   "nbconvert_exporter": "python",
   "pygments_lexer": "ipython3",
   "version": "3.6.3"
  },
  "latex_envs": {
   "LaTeX_envs_menu_present": true,
   "autoclose": false,
   "autocomplete": true,
   "bibliofile": "biblio.bib",
   "cite_by": "apalike",
   "current_citInitial": 1,
   "eqLabelWithNumbers": true,
   "eqNumInitial": 1,
   "hotkeys": {
    "equation": "Ctrl-E",
    "itemize": "Ctrl-I"
   },
   "labels_anchors": false,
   "latex_user_defs": false,
   "report_style_numbering": false,
   "user_envs_cfg": false
  },
  "toc": {
   "base_numbering": 1,
   "nav_menu": {},
   "number_sections": true,
   "sideBar": true,
   "skip_h1_title": false,
   "title_cell": "Table of Contents",
   "title_sidebar": "Contents",
   "toc_cell": false,
   "toc_position": {},
   "toc_section_display": true,
   "toc_window_display": false
  },
  "varInspector": {
   "cols": {
    "lenName": 16,
    "lenType": 16,
    "lenVar": 40
   },
   "kernels_config": {
    "python": {
     "delete_cmd_postfix": "",
     "delete_cmd_prefix": "del ",
     "library": "var_list.py",
     "varRefreshCmd": "print(var_dic_list())"
    },
    "r": {
     "delete_cmd_postfix": ") ",
     "delete_cmd_prefix": "rm(",
     "library": "var_list.r",
     "varRefreshCmd": "cat(var_dic_list()) "
    }
   },
   "types_to_exclude": [
    "module",
    "function",
    "builtin_function_or_method",
    "instance",
    "_Feature"
   ],
   "window_display": false
  }
 },
 "nbformat": 4,
 "nbformat_minor": 2
}
