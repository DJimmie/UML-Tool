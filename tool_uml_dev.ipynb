{
 "cells": [
  {
   "cell_type": "markdown",
   "metadata": {},
   "source": [
    "# Dependancies"
   ]
  },
  {
   "cell_type": "code",
   "execution_count": null,
   "metadata": {},
   "outputs": [],
   "source": [
    "import pandas as pd\n",
    "import numpy as np\n",
    "import datetime as dt\n",
    "from datetime import timedelta\n",
    "import matplotlib\n",
    "import matplotlib.pyplot as plt\n",
    "plt.style.use('ggplot')\n",
    "import qrcode\n",
    "import re\n",
    "import sqlite3\n",
    "import os\n",
    "import sys\n",
    "import shutil\n",
    "import time\n",
    "\n",
    "try:\n",
    "    import tkinter.ttk\n",
    "    from tkinter import *\n",
    "#     from tkinter.ttk import *\n",
    "except:\n",
    "    from tkinter import *\n",
    "\n",
    "from tkinter import messagebox\n",
    "from tkinter import filedialog\n",
    "\n",
    "from PIL import Image, ImageTk\n",
    "import PIL.Image, PIL.ImageTk\n",
    "# import cv2 as cv\n",
    "\n",
    "# import Paths"
   ]
  },
  {
   "cell_type": "markdown",
   "metadata": {},
   "source": [
    "# Classes"
   ]
  },
  {
   "cell_type": "code",
   "execution_count": null,
   "metadata": {
    "collapsed": true
   },
   "outputs": [],
   "source": [
    "class UserInterface():\n",
    "    \"\"\"Parent class for the UI. Instantiates the composit Window\"\"\"\n",
    "    def __init__(self):\n",
    "        UI(None)\n",
    "        mainloop()"
   ]
  },
  {
   "cell_type": "code",
   "execution_count": null,
   "metadata": {},
   "outputs": [],
   "source": [
    "class UI(Tk):\n",
    "    \"\"\"User Interface with fields for entering a new CSP item to the database. \n",
    "    Also, when the UI is launched, the UID and username is retrieved.\"\"\"\n",
    "    \n",
    "    now=dt.date.today().strftime('%B %d, %Y')\n",
    "    time_of_day=dt.datetime.today().strftime('%I:%M:%S %p')\n",
    "    \n",
    "    my_test=None\n",
    "    \n",
    "    making_packages=False\n",
    "    \n",
    "    initialdir=os.getcwd()\n",
    "    \n",
    "    def __init__(self,parent,*args,**kargs):\n",
    "        \"\"\"Create the UI Window\"\"\"\n",
    "        Tk.__init__(self,parent,*args,**kargs)\n",
    "        \n",
    "        self.parent=parent\n",
    "        self.initialize()\n",
    "        self.banner=Label(self,text=f'UML Diagrams - {UI.now}',fg='white',bg='blue',font='Ariel 30 bold')\n",
    "        self.banner.grid(row=0,column=0, columnspan=2)\n",
    "\n",
    "#         self.uml_txtbox_frame1()\n",
    "        self.makeumlFields()\n",
    "#         self.userInstructions()\n",
    "        \n",
    "    def initialize(self):\n",
    "        \"\"\"Set-up and configure the UI window\"\"\"\n",
    "        self.title('UML Project')\n",
    "        the_window_width=self.winfo_screenwidth()\n",
    "        the_window_height=self.winfo_screenheight()\n",
    "#         self.configure(width=the_window_width,height=the_window_height)\n",
    "#         the_window_width=1200\n",
    "#         the_window_height=700\n",
    "        self.geometry(f'{the_window_width}x{the_window_height}+0+0')\n",
    "#         self.attributes('-fullscreen', True)\n",
    "        self['borderwidth']=4\n",
    "        self['bg']='blue'\n",
    "        self.menubar=Menu(self)\n",
    "        self.menubar.add_command(label=\"Exit\",font='ariel',command=self.bye_bye)\n",
    "        self.config(menu=self.menubar)\n",
    "    \n",
    "    def bye_bye(self):\n",
    "        \"\"\"Close the UI Window on menu Exit\"\"\"\n",
    "        self.destroy()\n",
    "        \n",
    "    def makeumlFields(self):\n",
    "        \"\"\"Generate the CSP fields\"\"\"\n",
    "        # make the frame\n",
    "        self.uml_txtbox_frame=Frame(self.parent)\n",
    "        self.uml_txtbox_frame['background']='green'\n",
    "        self.uml_txtbox_frame['relief']='raised'\n",
    "        self.uml_txtbox_frame['borderwidth']=10\n",
    "        self.uml_txtbox_frame.grid(row=1,column=1)\n",
    "        banner_text='PlantUML Code Here'\n",
    "        frame_banner=Label(self.uml_txtbox_frame,text=banner_text,fg='white',bg='green',font='Ariel 15 bold')\n",
    "        frame_banner.grid(row=0,column=0,columnspan=5,pady=15)\n",
    "        self.v1=StringVar()\n",
    "        self.uml_txt_file=Entry(self.uml_txtbox_frame,bg='yellow',font='Ariel 15 bold',width=30,textvariable=self.v1)\n",
    "        self.uml_txt_file.grid(row=3,column=0,sticky=E)\n",
    "        \n",
    "        \n",
    "        \n",
    "        self.txt='COMMENTS'\n",
    "        self.uml_txt_label=Label(self.uml_txtbox_frame,text=self.txt,bg='blue',fg='yellow',font='Ariel 12 bold')\n",
    "        font='Ariel 14 bold'\n",
    "        self.uml_txt=Text(self.uml_txtbox_frame,borderwidth=2,height=30,width=60,font=font,wrap=WORD)\n",
    "        self.uml_txt.insert(INSERT, \"@startuml\\n\\n\\n@enduml\")\n",
    "        self.uml_txt.tag_add(\"here\", \"1.0\", \"1.4\")\n",
    "        self.uml_txt.tag_config(\"here\", background=\"yellow\", foreground=\"blue\")\n",
    "        self.uml_txt_label.grid(row=1,column=0,columnspan=1,pady=1,sticky=W)\n",
    "        self.uml_txt.grid(row=2,column=0,columnspan=1,pady=1,sticky=W)\n",
    "        \n",
    "        \n",
    "        # Buttons\n",
    "        self.submit_button=Button(self.uml_txtbox_frame, text=\"SUBMIT UML Code\",bg='black',fg='white',relief='raised',command=self.save_txt_file)\n",
    "        self.submit_button.grid(row=3,column=0,sticky=W)\n",
    "\n",
    "        self.run_uml=Button(self.uml_txtbox_frame, text=\"RUN UML Code\",bg='black',fg='yellow',relief='raised',state='normal',command=self.getUMLCode)\n",
    "        self.run_uml.grid(row=4,column=0,sticky=W,pady=15)\n",
    "\n",
    "        self.access_dir=Button(self.uml_txtbox_frame, text=\"Open Directory\",bg='blue',fg='yellow',relief='raised',state='normal',command=self.open_directory)\n",
    "        self.access_dir.grid(row=5,column=0,sticky=W,pady=15)\n",
    "        \n",
    "        self.get_package=Button(self.uml_txtbox_frame, text=\"Get Package\",bg='yellow',fg='blue',relief='raised',state='normal',command=self.open_packages)\n",
    "        self.get_package.grid(row=6,column=0,sticky=E,pady=15)\n",
    "        \n",
    "    \n",
    "    def getUMLCode(self):\n",
    "        \n",
    "        plantumlcode=self.uml_txt.get(\"1.0\",\"end-1c\")\n",
    "    #         print(plantumlcode)\n",
    "\n",
    "        makeRunFile(plantumlcode)\n",
    "\n",
    "        runUmlFile()\n",
    "        \n",
    "        self.ImageUML()\n",
    "        \n",
    "        self.getImage()\n",
    "        \n",
    "        \n",
    "    def ImageUML(self):\n",
    "    \n",
    "        \"\"\"Display image of the UML diagram if available\"\"\"\n",
    "\n",
    "        #Create Frame---------------------------------------------------------------\n",
    "        self.imageFrame=Frame(self.parent)\n",
    "        self.imageFrame['background']='red'\n",
    "        self.imageFrame['relief']='sunken'\n",
    "        self.imageFrame['borderwidth']=9\n",
    "        self.imageFrame.grid(row=1,column=2,sticky=N,padx=0)\n",
    "        banner_text='UML Diagram'\n",
    "        self.imageFrame_banner=Label(self.imageFrame,text=banner_text,fg='white',bg='black',font='Ariel 15 bold')\n",
    "        self.imageFrame_banner.grid(row=0,column=0,sticky=N)\n",
    "#         self.imageFrame_banner.pack()\n",
    "        \n",
    "        \n",
    "\n",
    "#         self.uid_label=Label(self.imageFrame,text=f'UML:TBD',fg='yellow',bg='black',font='Ariel 15 bold')\n",
    "#         self.uid_label.grid(row=0,column=0,columnspan=5,pady=5,sticky=W)\n",
    "\n",
    "            \n",
    "    def getImage(self):\n",
    "        \n",
    "#         the_uid_path=Paths.FilePaths().uid_path+f'\\\\{self.uid}\\\\Picture.png'\n",
    "\n",
    "        self.the_image_path='uml_run.png'\n",
    "\n",
    "        try:\n",
    "            load = Image.open(self.the_image_path)\n",
    "            render = PIL.ImageTk.PhotoImage(load)\n",
    "        except:\n",
    "            load = Image.open(\"No_Image.png\")\n",
    "            render = PIL.ImageTk.PhotoImage(load)\n",
    "            \n",
    "#         print(render.height())\n",
    "#         print(render.width())\n",
    "\n",
    "        hgt=render.height()\n",
    "        wth=render.width()\n",
    "        \n",
    "        hgt=800\n",
    "        wth=1000\n",
    "        \n",
    "        img_ref=Label(image=render)\n",
    "        img_ref.image=render\n",
    "        \n",
    "        canvas = Canvas(self.imageFrame, width=wth, height=hgt,bg='blue')\n",
    "        \n",
    "#         image_canvas=Frame(canvas)\n",
    "        \n",
    "        hbar=Scrollbar(self.imageFrame,orient=HORIZONTAL)\n",
    "        hbar.config(command=canvas.xview)\n",
    "        hbar.grid(row=3,column=0,sticky='we')\n",
    "        \n",
    "        vbar=Scrollbar(self.imageFrame,orient=VERTICAL)\n",
    "        vbar.config(command=canvas.yview)\n",
    "        vbar.grid(row=2,column=1,sticky='ns')\n",
    "        \n",
    "        \n",
    "#         canvas.config(width=600,height=600)\n",
    "        canvas.config(xscrollcommand=hbar.set, yscrollcommand=vbar.set)\n",
    "        canvas.grid(row=2,column=0,sticky=W)\n",
    "\n",
    "        canvas.create_image((0,0),image=img_ref.image,anchor=NW)\n",
    "        \n",
    "        canvas.config(scrollregion=canvas.bbox('all'))\n",
    "    \n",
    "    \n",
    "    def save_txt_file(self):\n",
    "        \n",
    "        file_name=self.v1.get()\n",
    "        plantumlcode=self.uml_txt.get(\"1.0\",\"end-1c\")\n",
    "        if (file_name==''):\n",
    "            messagebox.showwarning(title='FILE NAME REQUIRED',message='FILE NAME REQUIRED')\n",
    "            return None\n",
    "        else:\n",
    "            f= open(f'{UI.initialdir}{file_name}.txt',\"w+\")\n",
    "            print(f'UI.initialdir{file_name}.txt')\n",
    "            f.write(plantumlcode)\n",
    "            f.close\n",
    "            \n",
    "        shutil.copy2(self.the_image_path,f'{UI.initialdir}{file_name}')\n",
    "        \n",
    "    def plantumlrunerror(self):\n",
    "        \n",
    "        messagebox.showwarning(title='RUN ERROR',message='RUN ERROR. VERIFY YOUR CODE')\n",
    "    \n",
    "    \n",
    "    def open_directory(self):\n",
    "        \"\"\"Opens the directory folder for user to access\"\"\"\n",
    "        \n",
    "        UI.making_packages=False\n",
    "        \n",
    "        x=filedialog.askopenfilename(initialdir = UI.initialdir,title = \"Directory\",filetypes = ((\"all files\",\"*.*\"),(\"jpeg files\",\"*.jpg\")))\n",
    "        \n",
    "        print(x)\n",
    "        \n",
    "        self.set_directory(x)\n",
    "        \n",
    "        self.uml_txt.delete(1.0, END)\n",
    "        \n",
    "        f= open(x,\"r\")\n",
    "    \n",
    "        for line in f:\n",
    "            self.uml_txt.insert(INSERT, line)\n",
    "        \n",
    "        f.close\n",
    "        \n",
    "        the_file_name=x.split(sep='/')[-1].split('.')[0]\n",
    "        self.v1.set(the_file_name)\n",
    "        \n",
    "        \n",
    "    def set_directory(self,selectedFile):\n",
    "        \"\"\"Changes the initialdir for the filedialog window and uses the same directory for files saved.\"\"\"\n",
    "        \n",
    "        filename=selectedFile.split(sep='/')[-1]\n",
    "        \n",
    "        the_dir=selectedFile.split(sep=filename)\n",
    "        \n",
    "        UI.initialdir=the_dir[0]\n",
    "        \n",
    "        \n",
    "    def open_packages(self):\n",
    "        \n",
    "        x=filedialog.askopenfilename(initialdir = UI.initialdir,title = \"Package Directory\",filetypes = ((\"package files\",\"package*\"),(\"all files\",\"*.*\")))\n",
    "        print(x)\n",
    "        \n",
    "        if (UI.making_packages==False):\n",
    "            self.uml_txt.delete(2.0, END)\n",
    "            UI.making_packages=True\n",
    "                                                         \n",
    "        f= open(x,\"r\")\n",
    "    \n",
    "        for line in f:\n",
    "            a=line.strip()\n",
    "            if (a!='@startuml' and a!='@enduml'):\n",
    "                self.uml_txt.insert(INSERT, line)\n",
    "#                 print(line,len(line))\n",
    "        \n",
    "        f.close\n",
    "        \n",
    "        \n",
    "        \n",
    "        \n",
    "        \n",
    "                "
   ]
  },
  {
   "cell_type": "markdown",
   "metadata": {},
   "source": [
    "# Functions"
   ]
  },
  {
   "cell_type": "code",
   "execution_count": null,
   "metadata": {
    "collapsed": true
   },
   "outputs": [],
   "source": [
    "def makeRunFile(code):\n",
    "    \n",
    "    f= open(\"uml_run.txt\",\"w+\")\n",
    "    \n",
    "    f.write(code)\n",
    "    \n",
    "    f.close"
   ]
  },
  {
   "cell_type": "code",
   "execution_count": null,
   "metadata": {
    "collapsed": true
   },
   "outputs": [],
   "source": [
    "def runUmlFile():\n",
    "    \n",
    "    try:\n",
    "        !python -m plantuml uml_run.txt\n",
    "    except:\n",
    "        UI.plantumlrunerror()\n",
    "        \n",
    "    \n",
    "#     displayUML()"
   ]
  },
  {
   "cell_type": "code",
   "execution_count": null,
   "metadata": {
    "collapsed": true
   },
   "outputs": [],
   "source": [
    "def displayUML():\n",
    "    \n",
    "    os.startfile(\"uml_run.png\",operation='open')"
   ]
  },
  {
   "cell_type": "code",
   "execution_count": null,
   "metadata": {
    "collapsed": true
   },
   "outputs": [],
   "source": [
    "\n",
    "\n"
   ]
  },
  {
   "cell_type": "code",
   "execution_count": null,
   "metadata": {
    "collapsed": true
   },
   "outputs": [],
   "source": []
  },
  {
   "cell_type": "markdown",
   "metadata": {},
   "source": [
    "# Main"
   ]
  },
  {
   "cell_type": "code",
   "execution_count": null,
   "metadata": {
    "scrolled": false
   },
   "outputs": [],
   "source": [
    "UserInterface()"
   ]
  },
  {
   "cell_type": "markdown",
   "metadata": {},
   "source": [
    "# Extras"
   ]
  },
  {
   "cell_type": "code",
   "execution_count": null,
   "metadata": {
    "deletable": false,
    "editable": false,
    "run_control": {
     "frozen": true
    }
   },
   "outputs": [],
   "source": [
    "root = Tk()\n",
    "x =  filedialog.askopenfilename(initialdir = a,title = \"Select file\",filetypes = ((\"jpeg files\",\"*.jpg\"),(\"all files\",\"*.*\")))\n",
    "print (x)"
   ]
  },
  {
   "cell_type": "code",
   "execution_count": null,
   "metadata": {
    "deletable": false,
    "editable": false,
    "run_control": {
     "frozen": true
    }
   },
   "outputs": [],
   "source": [
    "x.split(sep='/')[-1].split('.')[0]"
   ]
  },
  {
   "cell_type": "code",
   "execution_count": null,
   "metadata": {
    "collapsed": true
   },
   "outputs": [],
   "source": []
  },
  {
   "cell_type": "code",
   "execution_count": null,
   "metadata": {
    "collapsed": true
   },
   "outputs": [],
   "source": []
  },
  {
   "cell_type": "code",
   "execution_count": null,
   "metadata": {},
   "outputs": [],
   "source": [
    "\n"
   ]
  },
  {
   "cell_type": "code",
   "execution_count": null,
   "metadata": {
    "collapsed": true
   },
   "outputs": [],
   "source": []
  }
 ],
 "metadata": {
  "hide_input": false,
  "kernelspec": {
   "display_name": "Python 3",
   "language": "python",
   "name": "python3"
  },
  "language_info": {
   "codemirror_mode": {
    "name": "ipython",
    "version": 3
   },
   "file_extension": ".py",
   "mimetype": "text/x-python",
   "name": "python",
   "nbconvert_exporter": "python",
   "pygments_lexer": "ipython3",
   "version": "3.6.3"
  },
  "latex_envs": {
   "LaTeX_envs_menu_present": true,
   "autoclose": false,
   "autocomplete": true,
   "bibliofile": "biblio.bib",
   "cite_by": "apalike",
   "current_citInitial": 1,
   "eqLabelWithNumbers": true,
   "eqNumInitial": 1,
   "hotkeys": {
    "equation": "Ctrl-E",
    "itemize": "Ctrl-I"
   },
   "labels_anchors": false,
   "latex_user_defs": false,
   "report_style_numbering": false,
   "user_envs_cfg": false
  },
  "toc": {
   "base_numbering": 1,
   "nav_menu": {},
   "number_sections": true,
   "sideBar": true,
   "skip_h1_title": false,
   "title_cell": "Table of Contents",
   "title_sidebar": "Contents",
   "toc_cell": false,
   "toc_position": {
    "height": "calc(100% - 180px)",
    "left": "10px",
    "top": "150px",
    "width": "170px"
   },
   "toc_section_display": true,
   "toc_window_display": true
  },
  "varInspector": {
   "cols": {
    "lenName": 16,
    "lenType": 16,
    "lenVar": 40
   },
   "kernels_config": {
    "python": {
     "delete_cmd_postfix": "",
     "delete_cmd_prefix": "del ",
     "library": "var_list.py",
     "varRefreshCmd": "print(var_dic_list())"
    },
    "r": {
     "delete_cmd_postfix": ") ",
     "delete_cmd_prefix": "rm(",
     "library": "var_list.r",
     "varRefreshCmd": "cat(var_dic_list()) "
    }
   },
   "types_to_exclude": [
    "module",
    "function",
    "builtin_function_or_method",
    "instance",
    "_Feature"
   ],
   "window_display": false
  }
 },
 "nbformat": 4,
 "nbformat_minor": 2
}
